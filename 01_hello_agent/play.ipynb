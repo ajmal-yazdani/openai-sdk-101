{
 "cells": [
  {
   "cell_type": "code",
   "execution_count": 3,
   "id": "7fd6d02b",
   "metadata": {},
   "outputs": [],
   "source": [
    "from openai import AsyncAzureOpenAI\n",
    "from agents import Agent, Runner, OpenAIChatCompletionsModel\n",
    "from agents.run import RunConfig\n",
    "import os\n",
    "from dotenv import load_dotenv\n",
    "from pathlib import Path\n",
    "import logging"
   ]
  },
  {
   "cell_type": "code",
   "execution_count": 6,
   "id": "c3114124",
   "metadata": {},
   "outputs": [
    {
     "name": "stdout",
     "output_type": "stream",
     "text": [
      "Looking for .env file at: /home/chicha/repos/openai-sdk-101/01_hello_agent/.env\n",
      "Does .env file exist? True\n",
      "API KEY: 2geV8...\n",
      "API VERSION: 2025-01-01-preview\n",
      "ENDPOINT: https://open-aj.openai.azure.com\n",
      "DEPLOYMENT: gpt-4o\n"
     ]
    }
   ],
   "source": [
    "# Get the absolute path to the .env file\n",
    "current_dir = Path().absolute()\n",
    "env_path = current_dir / \".env\"\n",
    "print(f\"Looking for .env file at: {env_path}\")\n",
    "print(f\"Does .env file exist? {env_path.exists()}\")\n",
    "\n",
    "# Load environment variables from .env file with explicit path\n",
    "load_dotenv(dotenv_path=env_path)\n",
    "\n",
    "# Debug environment variables to ensure they're loaded\n",
    "print(f\"API KEY: {os.getenv('AZURE_OPENAI_API_KEY', '')[:5] if os.getenv('AZURE_OPENAI_API_KEY') else 'Not found'}...\")\n",
    "print(f\"API VERSION: {os.getenv('AZURE_OPENAI_API_VERSION', 'Not found')}\")\n",
    "print(f\"ENDPOINT: {os.getenv('AZURE_OPENAI_ENDPOINT', 'Not found')}\")\n",
    "print(f\"DEPLOYMENT: {os.getenv('AZURE_OPENAI_DEPLOYMENT', 'Not found')}\")"
   ]
  },
  {
   "cell_type": "code",
   "execution_count": 7,
   "id": "6dc7adbb",
   "metadata": {},
   "outputs": [
    {
     "name": "stdout",
     "output_type": "stream",
     "text": [
      "Azure OpenAI client created successfully\n"
     ]
    }
   ],
   "source": [
    "# Configure logging to disable verbose HTTP request logs from OpenAI client\n",
    "logging.getLogger('openai').setLevel(logging.WARNING)\n",
    "logging.getLogger('httpx').setLevel(logging.WARNING)\n",
    "\n",
    "try:\n",
    "    azure_openai_client = AsyncAzureOpenAI(\n",
    "        api_key=os.getenv(\"AZURE_OPENAI_API_KEY\", \"\"),\n",
    "        api_version=os.getenv(\"AZURE_OPENAI_API_VERSION\", \"\"),\n",
    "        azure_endpoint=os.getenv(\"AZURE_OPENAI_ENDPOINT\", \"\"),\n",
    "        azure_deployment=os.getenv(\"AZURE_OPENAI_DEPLOYMENT\", \"\"),\n",
    "    )\n",
    "    print(\"Azure OpenAI client created successfully\")\n",
    "except Exception as e:\n",
    "    print(f\"Error creating Azure OpenAI client: {e}\")"
   ]
  },
  {
   "cell_type": "code",
   "execution_count": 8,
   "id": "1b89fee8",
   "metadata": {},
   "outputs": [
    {
     "name": "stdout",
     "output_type": "stream",
     "text": [
      "Client test successful:\n",
      "Hello! 😊 How can I assist you today?\n"
     ]
    }
   ],
   "source": [
    "# Test if the client works with a simple completion\n",
    "try:\n",
    "    response = await azure_openai_client.chat.completions.create(\n",
    "        model=os.getenv(\"AZURE_OPENAI_DEPLOYMENT\", \"\"),\n",
    "        messages=[{\"role\": \"user\", \"content\": \"Say hello\"}]\n",
    "    )\n",
    "    print(\"Client test successful:\")\n",
    "    print(response.choices[0].message.content)\n",
    "except Exception as e:\n",
    "    print(f\"Error testing Azure OpenAI client: {e}\")"
   ]
  },
  {
   "cell_type": "code",
   "execution_count": 9,
   "id": "0547af6e",
   "metadata": {},
   "outputs": [
    {
     "name": "stdout",
     "output_type": "stream",
     "text": [
      "Model created successfully\n",
      "Config created successfully\n"
     ]
    }
   ],
   "source": [
    "try:\n",
    "    model = OpenAIChatCompletionsModel(model=\"gpt-4o\", openai_client=azure_openai_client)\n",
    "    print(\"Model created successfully\")\n",
    "    config = RunConfig(\n",
    "        model=model,\n",
    "        tracing_disabled=True,\n",
    "    )\n",
    "    print(\"Config created successfully\")\n",
    "except Exception as e:\n",
    "    print(f\"Error creating model or config: {e}\")"
   ]
  },
  {
   "cell_type": "code",
   "execution_count": 11,
   "id": "fe35389f",
   "metadata": {},
   "outputs": [
    {
     "name": "stdout",
     "output_type": "stream",
     "text": [
      "Agent created successfully\n"
     ]
    }
   ],
   "source": [
    "try:\n",
    "    agent = Agent(\n",
    "        name=\"Master Agent\",\n",
    "        model=model,\n",
    "    )\n",
    "    print(\"Agent created successfully\")\n",
    "except Exception as e:\n",
    "    print(f\"Error creating agent: {e}\")"
   ]
  },
  {
   "cell_type": "code",
   "execution_count": null,
   "id": "6f058e47",
   "metadata": {},
   "outputs": [
    {
     "name": "stdout",
     "output_type": "stream",
     "text": [
      "\n",
      "CALLING AGENT\n",
      "\n",
      "Hello! I'm just a virtual assistant, so I don't have feelings, but thank you for asking! How about you? How can I assist you today? 😊\n"
     ]
    }
   ],
   "source": [
    "try:\n",
    "    # Use the async version instead of run_sync to avoid event loop conflicts\n",
    "    async def run_agent():\n",
    "        result = await Runner.run(agent, \"Hello, how are you.\", run_config=config)\n",
    "        print(\"\\nCALLING AGENT\\n\")\n",
    "        print(result.final_output)\n",
    "        return result\n",
    "\n",
    "    # Execute the async function directly - Jupyter will handle it properly\n",
    "    result = await run_agent()\n",
    "except Exception as e:\n",
    "    import traceback\n",
    "\n",
    "    print(f\"Error running agent: {e}\")\n",
    "    print(traceback.format_exc())"
   ]
  }
 ],
 "metadata": {
  "kernelspec": {
   "display_name": ".venv",
   "language": "python",
   "name": "python3"
  },
  "language_info": {
   "codemirror_mode": {
    "name": "ipython",
    "version": 3
   },
   "file_extension": ".py",
   "mimetype": "text/x-python",
   "name": "python",
   "nbconvert_exporter": "python",
   "pygments_lexer": "ipython3",
   "version": "3.12.0"
  }
 },
 "nbformat": 4,
 "nbformat_minor": 5
}
